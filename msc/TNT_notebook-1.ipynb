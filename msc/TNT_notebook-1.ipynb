{
 "cells": [
  {
   "cell_type": "markdown",
   "id": "8c1aec1b",
   "metadata": {},
   "source": [
    "# Tensor Network Theory - Lab Class\n",
    "## Notebook 1: Basic tensor manipulations"
   ]
  },
  {
   "cell_type": "markdown",
   "id": "51a0de72",
   "metadata": {},
   "source": [
    "We start all our notebooks by including the libraries we need. Here we will use ITensors:"
   ]
  },
  {
   "cell_type": "code",
   "execution_count": 2,
   "id": "56eead94",
   "metadata": {},
   "outputs": [],
   "source": [
    "using ITensors"
   ]
  },
  {
   "cell_type": "markdown",
   "id": "ffa3263d",
   "metadata": {},
   "source": [
    "In this notebook we will explore creating, manipulating and contracting tensors in ITensor. A tensor is effectively a multi-dimensional array. In ITensor the indices of this array are themselves objects containing with a unique identifier, a dimension and a tag which gives them a sensible name. "
   ]
  },
  {
   "cell_type": "markdown",
   "id": "82a0d4ad",
   "metadata": {},
   "source": [
    "### Indices \n",
    "Let's create four indices:"
   ]
  },
  {
   "cell_type": "code",
   "execution_count": 78,
   "id": "25caeb9a",
   "metadata": {},
   "outputs": [
    {
     "data": {
      "text/plain": [
       "(dim=3|id=676|\"l\")"
      ]
     },
     "execution_count": 78,
     "metadata": {},
     "output_type": "execute_result"
    }
   ],
   "source": [
    "i = Index(3,\"i\") # 3 dimensional index called i\n",
    "j = Index(3,\"j\") # 3 dimensional index called j\n",
    "k = Index(4,\"k\") # 4 dimensional index called k\n",
    "l = Index(3,\"l\") # 3 dimensional index called l"
   ]
  },
  {
   "cell_type": "markdown",
   "id": "781a73b3",
   "metadata": {},
   "source": [
    "The output from the last line (the only one shown in a cell) confirms that index $l$ has the properties we wanted. Using the first three of these indices we can now create a variety of tensors, for example:\n",
    "\n",
    "<img src=\"./images/tensor_diagrams.png\" alt= “” width=\"600\" height=\"300\">\n",
    "\n",
    "Now let's create each of these tensors as:"
   ]
  },
  {
   "cell_type": "code",
   "execution_count": 135,
   "id": "2e3ab621",
   "metadata": {},
   "outputs": [],
   "source": [
    "v = ITensor(j);\n",
    "M = ITensor(i,j);\n",
    "T = ITensor(i,j,k);"
   ]
  },
  {
   "cell_type": "markdown",
   "id": "021f3e74",
   "metadata": {},
   "source": [
    "We suppressed the output here, but we can confirm for example that $T$ it is an order-3 tensor by using the inds(.) function to examine it:"
   ]
  },
  {
   "cell_type": "code",
   "execution_count": 80,
   "id": "525a6fc4",
   "metadata": {},
   "outputs": [
    {
     "data": {
      "text/plain": [
       "((dim=3|id=459|\"i\"), (dim=3|id=155|\"j\"), (dim=4|id=880|\"k\"))"
      ]
     },
     "execution_count": 80,
     "metadata": {},
     "output_type": "execute_result"
    }
   ],
   "source": [
    "inds(T)"
   ]
  },
  {
   "cell_type": "markdown",
   "id": "d410f796",
   "metadata": {},
   "source": [
    "### Populating tensors\n",
    "The tensors we have created are intialised to zero. Let's populate this tensor with some specific values. We do this via an assignment:"
   ]
  },
  {
   "cell_type": "code",
   "execution_count": 136,
   "id": "3ed9e502",
   "metadata": {},
   "outputs": [],
   "source": [
    "v[j=>2] = 1.12;\n",
    "M[i=>1,j=>1] = 45;\n",
    "T[i=>2,j=>1,k=>3] = -3.2;"
   ]
  },
  {
   "cell_type": "markdown",
   "id": "cb88bb15",
   "metadata": {},
   "source": [
    "We can check this has worked as:"
   ]
  },
  {
   "cell_type": "code",
   "execution_count": 137,
   "id": "4e4adb1d",
   "metadata": {},
   "outputs": [
    {
     "data": {
      "text/plain": [
       "-3.2"
      ]
     },
     "execution_count": 137,
     "metadata": {},
     "output_type": "execute_result"
    }
   ],
   "source": [
    "T[j=>1,i=>2,k=>3]"
   ]
  },
  {
   "cell_type": "markdown",
   "id": "76c48b94",
   "metadata": {},
   "source": [
    "Notice the evaluation above specifies the indices in a different order to the assignment. The illustrates that since we pass indices the order we write them in is irrelevant. We can convert a tensor into a conventional multi-dimensional array in Julia as:"
   ]
  },
  {
   "cell_type": "code",
   "execution_count": 83,
   "id": "bff92bfc",
   "metadata": {},
   "outputs": [
    {
     "data": {
      "text/plain": [
       "3-element Vector{Float64}:\n",
       " 0.0\n",
       " 1.12\n",
       " 0.0"
      ]
     },
     "execution_count": 83,
     "metadata": {},
     "output_type": "execute_result"
    }
   ],
   "source": [
    "Array(v,j)"
   ]
  },
  {
   "cell_type": "code",
   "execution_count": 138,
   "id": "21215231",
   "metadata": {},
   "outputs": [
    {
     "data": {
      "text/plain": [
       "3×3 Matrix{Int64}:\n",
       " 45  0  0\n",
       "  0  0  0\n",
       "  0  0  0"
      ]
     },
     "execution_count": 138,
     "metadata": {},
     "output_type": "execute_result"
    }
   ],
   "source": [
    "Array(M,i,j)"
   ]
  },
  {
   "cell_type": "markdown",
   "id": "e5435a00",
   "metadata": {},
   "source": [
    "Here we had to pass the indices and the order matters. We get an array with a different order of dimensions if we switch them around:"
   ]
  },
  {
   "cell_type": "code",
   "execution_count": 85,
   "id": "85e58a0d",
   "metadata": {},
   "outputs": [
    {
     "data": {
      "text/plain": [
       "3×3 Matrix{Int64}:\n",
       "  0  0  0\n",
       " 45  0  0\n",
       "  0  0  0"
      ]
     },
     "execution_count": 85,
     "metadata": {},
     "output_type": "execute_result"
    }
   ],
   "source": [
    "Array(M,j,i)"
   ]
  },
  {
   "cell_type": "markdown",
   "id": "067d61a7",
   "metadata": {},
   "source": [
    "---\n",
    "\n",
    "## *Exercise*\n",
    "- Try `Array(T,i,j,k)` and `Array(T,j,i,k)`.\n",
    "\n",
    "---"
   ]
  },
  {
   "cell_type": "markdown",
   "id": "acce3531",
   "metadata": {},
   "source": [
    "We can also create tensor with specific elements by passing arrays as:"
   ]
  },
  {
   "cell_type": "code",
   "execution_count": 113,
   "id": "e8fa3124",
   "metadata": {},
   "outputs": [
    {
     "data": {
      "text/plain": [
       "3×3 Matrix{Float64}:\n",
       "  0.0  1.0  0.0\n",
       " -1.0  0.0  0.0\n",
       "  0.0  0.0  1.0"
      ]
     },
     "execution_count": 113,
     "metadata": {},
     "output_type": "execute_result"
    }
   ],
   "source": [
    "Q = ITensor([0 1.0 0; -1.0 0 0; 0 0 1.0],i,j);\n",
    "Array(Q,i,j) # Check we get the correct matrix"
   ]
  },
  {
   "cell_type": "markdown",
   "id": "eb0ced28",
   "metadata": {},
   "source": [
    "We can also generate random array and assign this to a tensor:"
   ]
  },
  {
   "cell_type": "code",
   "execution_count": 114,
   "id": "cc26bd3b",
   "metadata": {},
   "outputs": [],
   "source": [
    "Yarr = randn(3,4,3)\n",
    "Y = ITensor(Yarr,j,k,i);"
   ]
  },
  {
   "cell_type": "markdown",
   "id": "5300e121",
   "metadata": {},
   "source": [
    "The indices should be listed so they coincide with the dimensions of the array they index over. We can check by examining whether elements are identical between the tensor and array:"
   ]
  },
  {
   "cell_type": "code",
   "execution_count": 115,
   "id": "684982b6",
   "metadata": {},
   "outputs": [
    {
     "data": {
      "text/plain": [
       "true"
      ]
     },
     "execution_count": 115,
     "metadata": {},
     "output_type": "execute_result"
    }
   ],
   "source": [
    "isapprox(Y[k=>1,i=>2,j=>3],Yarr[3,1,2])"
   ]
  },
  {
   "cell_type": "markdown",
   "id": "9eba1e51",
   "metadata": {},
   "source": [
    "---\n",
    "\n",
    "## *Exercise*\n",
    "- Try `Yd = ITensor(Yarr,i,j,k)`. This code works despite the incorrect index assignments to array dimensions. What is it doing?\n",
    "\n",
    "---\n"
   ]
  },
  {
   "cell_type": "markdown",
   "id": "6cefa075",
   "metadata": {},
   "source": [
    "### Arithmetic and elementwise operations on tensors\n",
    "We can do arithmetic with tensors once they share the same collection of indices (the order they appear in a tensor is again irrelevant). For example we can multiply by complex scalars and add up tensors:"
   ]
  },
  {
   "cell_type": "code",
   "execution_count": 119,
   "id": "07269a00",
   "metadata": {},
   "outputs": [],
   "source": [
    "X = 2.0*T + Y/(1+1im);"
   ]
  },
  {
   "cell_type": "markdown",
   "id": "64477be3",
   "metadata": {},
   "source": [
    "We can check an element to see if it has been added up:"
   ]
  },
  {
   "cell_type": "code",
   "execution_count": 120,
   "id": "9c982e6f",
   "metadata": {},
   "outputs": [
    {
     "data": {
      "text/plain": [
       "true"
      ]
     },
     "execution_count": 120,
     "metadata": {},
     "output_type": "execute_result"
    }
   ],
   "source": [
    "isapprox(X[j=>1,i=>2,k=>3],2.0*T[j=>1,i=>2,k=>3] + Y[j=>1,i=>2,k=>3]/(1+1im))"
   ]
  },
  {
   "cell_type": "markdown",
   "id": "fdf98baf",
   "metadata": {},
   "source": [
    "We can also do elementwise operations on tensors, like multiplication by a scalar and broadcasting functions:"
   ]
  },
  {
   "cell_type": "code",
   "execution_count": 91,
   "id": "a960d452",
   "metadata": {},
   "outputs": [],
   "source": [
    "C1 = abs.(Q); # Take the abs() of all elements\n",
    "C2 = one.(Q); # Replace all elements by 1"
   ]
  },
  {
   "cell_type": "markdown",
   "id": "e1e8733a",
   "metadata": {},
   "source": [
    "You can define more complex functions yourself as:"
   ]
  },
  {
   "cell_type": "code",
   "execution_count": 92,
   "id": "40a1bcb6",
   "metadata": {},
   "outputs": [],
   "source": [
    "myfunc(x) = 1.0/(1.0+exp(-x));"
   ]
  },
  {
   "cell_type": "markdown",
   "id": "8473f3bd",
   "metadata": {},
   "source": [
    "and then broadcast these over all elements of a tensor:"
   ]
  },
  {
   "cell_type": "code",
   "execution_count": 93,
   "id": "777de8d8",
   "metadata": {},
   "outputs": [],
   "source": [
    "C3 = myfunc.(Q);"
   ]
  },
  {
   "cell_type": "markdown",
   "id": "6ad221fa",
   "metadata": {},
   "source": [
    "---\n",
    "\n",
    "## *Exercise*\n",
    "- Check the arrays from the tensors `C1`, `C2`, and `C3` to see if they are as expected.\n",
    "\n",
    "---"
   ]
  },
  {
   "cell_type": "markdown",
   "id": "8df361d4",
   "metadata": {},
   "source": [
    "### Special tensors"
   ]
  },
  {
   "cell_type": "markdown",
   "id": "df7e6f65",
   "metadata": {},
   "source": [
    "There are shortcuts to creating some special tensors:"
   ]
  },
  {
   "cell_type": "code",
   "execution_count": 121,
   "id": "7e543caa",
   "metadata": {},
   "outputs": [],
   "source": [
    "A = randomITensor(i,j)   # Create a random order-2 tensor (3x3 matrix)\n",
    "B = randomITensor(j,k)   # Create another random order-2 tensor (3x4 matrix)\n",
    "N = randomITensor(j,l,k) # Create a random order-3 tensor (3x3x4 array)\n",
    "P = onehot(i=>3,j=>2)    # Create a tensor with a single unit element (3x3 matrix)\n",
    "D = delta(i,j);          # Create a diagonal identity tensor (3x3 matrix)"
   ]
  },
  {
   "cell_type": "markdown",
   "id": "00c1f615",
   "metadata": {},
   "source": [
    "It is useful to examine the output of the last two:"
   ]
  },
  {
   "cell_type": "code",
   "execution_count": 95,
   "id": "e763e244",
   "metadata": {},
   "outputs": [
    {
     "data": {
      "text/plain": [
       "3×3 Matrix{Float64}:\n",
       " 0.0  0.0  0.0\n",
       " 0.0  0.0  0.0\n",
       " 0.0  1.0  0.0"
      ]
     },
     "execution_count": 95,
     "metadata": {},
     "output_type": "execute_result"
    }
   ],
   "source": [
    "Array(P,i,j)"
   ]
  },
  {
   "cell_type": "markdown",
   "id": "84f00589",
   "metadata": {},
   "source": [
    "The identity tensor has a special diagram comprised of just a line:\n",
    "<img src=\"./images/identity_diagram.png\" alt= “” width=\"300\" height=\"300\">\n",
    "and we can confirm its elements:"
   ]
  },
  {
   "cell_type": "code",
   "execution_count": 97,
   "id": "fa6720b3",
   "metadata": {},
   "outputs": [
    {
     "data": {
      "text/plain": [
       "3×3 Matrix{Float64}:\n",
       " 1.0  0.0  0.0\n",
       " 0.0  1.0  0.0\n",
       " 0.0  0.0  1.0"
      ]
     },
     "execution_count": 97,
     "metadata": {},
     "output_type": "execute_result"
    }
   ],
   "source": [
    "Array(D,i,j)"
   ]
  },
  {
   "cell_type": "markdown",
   "id": "f6ec9ea2",
   "metadata": {},
   "source": [
    "Sometimes we might want to combine two indices into one larger index. We can create a combiner tensor to do this:"
   ]
  },
  {
   "cell_type": "code",
   "execution_count": 102,
   "id": "a23c5b63",
   "metadata": {},
   "outputs": [
    {
     "data": {
      "text/plain": [
       "ITensor ord=3 (dim=12|id=517|\"c\") (dim=3|id=459|\"i\") (dim=4|id=880|\"k\")\n",
       "NDTensors.Combiner"
      ]
     },
     "execution_count": 102,
     "metadata": {},
     "output_type": "execute_result"
    }
   ],
   "source": [
    "C = combiner(i,k; tags=\"c\")"
   ]
  },
  {
   "cell_type": "markdown",
   "id": "3432a2a7",
   "metadata": {},
   "source": [
    "As expected this is an order-3 tensor with a new 12 dimensional index c. We can access this new index object by using the following command:"
   ]
  },
  {
   "cell_type": "code",
   "execution_count": 103,
   "id": "4ccabd00",
   "metadata": {},
   "outputs": [
    {
     "data": {
      "text/plain": [
       "(dim=12|id=517|\"c\")"
      ]
     },
     "execution_count": 103,
     "metadata": {},
     "output_type": "execute_result"
    }
   ],
   "source": [
    "c = combinedind(C)"
   ]
  },
  {
   "cell_type": "markdown",
   "id": "3bddfc49",
   "metadata": {},
   "source": [
    "### Contracting tensors"
   ]
  },
  {
   "cell_type": "markdown",
   "id": "34a309ff",
   "metadata": {},
   "source": [
    "Contraction of tensor indices means a sum of a multiplications of elements. We represent this diagrammatically as:\n",
    "<img src=\"./images/sample_contractions.png\" alt= “” width=\"600\" height=\"300\">\n",
    "\n",
    "which corresponds to matrix x vector and matrix x matrix operations. We can use the $*$ operation and ITensor will automatically contract the shared index, which in both cases is $j$:"
   ]
  },
  {
   "cell_type": "code",
   "execution_count": 122,
   "id": "b98ef28a",
   "metadata": {},
   "outputs": [
    {
     "data": {
      "text/plain": [
       "ITensor ord=1 (dim=3|id=155|\"j\")\n",
       "NDTensors.Dense{Float64, Vector{Float64}}"
      ]
     },
     "execution_count": 122,
     "metadata": {},
     "output_type": "execute_result"
    }
   ],
   "source": [
    "M*v"
   ]
  },
  {
   "cell_type": "code",
   "execution_count": 123,
   "id": "3c5d84ea",
   "metadata": {},
   "outputs": [
    {
     "data": {
      "text/plain": [
       "ITensor ord=2 (dim=3|id=459|\"i\") (dim=4|id=880|\"k\")\n",
       "NDTensors.Dense{Float64, Vector{Float64}}"
      ]
     },
     "execution_count": 123,
     "metadata": {},
     "output_type": "execute_result"
    }
   ],
   "source": [
    "A*B"
   ]
  },
  {
   "cell_type": "markdown",
   "id": "0b28f1b2",
   "metadata": {},
   "source": [
    "Contraction generalises beyond linear algebra. Consider the tensor $M$ is order-2 and the tensor $N$ is order-3, but they share the $i$ index. The contraction of these tensors is expressed diagrammatically as:\n",
    "\n",
    "<img src=\"./images/generic_diagram.png\" alt= “” width=\"600\" height=\"300\">\n",
    "\n",
    "We are left with an order-3 tensor with the remaining $i$, $l$ and $k$ indices:"
   ]
  },
  {
   "cell_type": "code",
   "execution_count": 124,
   "id": "ac3429bf",
   "metadata": {},
   "outputs": [
    {
     "data": {
      "text/plain": [
       "ITensor ord=3 (dim=3|id=459|\"i\") (dim=3|id=676|\"l\") (dim=4|id=880|\"k\")\n",
       "NDTensors.Dense{Float64, Vector{Float64}}"
      ]
     },
     "execution_count": 124,
     "metadata": {},
     "output_type": "execute_result"
    }
   ],
   "source": [
    "M*N"
   ]
  },
  {
   "cell_type": "markdown",
   "id": "b947da0b",
   "metadata": {},
   "source": [
    "If we $*$ tensors with no shared indices we simply get the outer product\n",
    "<img src=\"./images/outer_product.png\" alt= “” width=\"350\" height=\"300\">"
   ]
  },
  {
   "cell_type": "code",
   "execution_count": 111,
   "id": "7bdbca1d",
   "metadata": {},
   "outputs": [
    {
     "data": {
      "text/plain": [
       "ITensor ord=2 (dim=3|id=459|\"i\") (dim=3|id=155|\"j\")\n",
       "NDTensors.Dense{Float64, Vector{Float64}}"
      ]
     },
     "execution_count": 111,
     "metadata": {},
     "output_type": "execute_result"
    }
   ],
   "source": [
    "w = randomITensor(j) # Create a random vector with index j\n",
    "T = v*w              # Overwrite T as the outer product"
   ]
  },
  {
   "cell_type": "markdown",
   "id": "a139fbe7",
   "metadata": {},
   "source": [
    "The action of the identity tensor can also be demonstrated:\n",
    "<img src=\"./images/identity_contraction.png\" alt= “” width=\"700\" height=\"300\">"
   ]
  },
  {
   "cell_type": "code",
   "execution_count": 128,
   "id": "bc392cf4",
   "metadata": {},
   "outputs": [
    {
     "data": {
      "text/plain": [
       "ITensor ord=3 (dim=3|id=459|\"i\") (dim=4|id=880|\"k\") (dim=3|id=676|\"l\")\n",
       "NDTensors.Dense{Float64, Vector{Float64}}"
      ]
     },
     "execution_count": 128,
     "metadata": {},
     "output_type": "execute_result"
    }
   ],
   "source": [
    "T = randomITensor(i,j,k)  # Overwrite T as a random order-3 tensor\n",
    "T = T*delta(j,l)          # Now index j and is replaced by l"
   ]
  },
  {
   "cell_type": "markdown",
   "id": "23b6daaf",
   "metadata": {},
   "source": [
    "We haven't changed the tensor $T$ aside from replace the index $j$ with the index $l$. We can use the identity tensor to perform partial tracing of indices:\n",
    "<img src=\"./images/trace_A.png\" alt= “” width=\"700\" height=\"300\">"
   ]
  },
  {
   "cell_type": "code",
   "execution_count": 130,
   "id": "415a19c3",
   "metadata": {},
   "outputs": [
    {
     "data": {
      "text/plain": [
       "ITensor ord=1 (dim=3|id=155|\"j\")\n",
       "NDTensors.Dense{Float64, Vector{Float64}}"
      ]
     },
     "execution_count": 130,
     "metadata": {},
     "output_type": "execute_result"
    }
   ],
   "source": [
    "T = randomITensor(i,j,l)  # Overwrite T as a random order-3 tensor again\n",
    "T = T*delta(i,l)"
   ]
  },
  {
   "cell_type": "markdown",
   "id": "c2bd7697",
   "metadata": {},
   "source": [
    "Likewise we can do a full matrix trace as:\n",
    "<img src=\"./images/trace.png\" alt= “” width=\"300\" height=\"300\">\n",
    "which leaves a rank-0 tensor = scalar:"
   ]
  },
  {
   "cell_type": "code",
   "execution_count": 139,
   "id": "a44e9091",
   "metadata": {},
   "outputs": [
    {
     "data": {
      "text/plain": [
       "ITensor ord=0\n",
       "NDTensors.Dense{Float64, Vector{Float64}}"
      ]
     },
     "execution_count": 139,
     "metadata": {},
     "output_type": "execute_result"
    }
   ],
   "source": [
    "s = M*delta(i,j)"
   ]
  },
  {
   "cell_type": "code",
   "execution_count": 140,
   "id": "63a75db0",
   "metadata": {},
   "outputs": [
    {
     "data": {
      "text/plain": [
       "0-dimensional Array{Float64, 0}:\n",
       "45.0"
      ]
     },
     "execution_count": 140,
     "metadata": {},
     "output_type": "execute_result"
    }
   ],
   "source": [
    "Array(s)"
   ]
  },
  {
   "cell_type": "markdown",
   "id": "e5d3aeb2",
   "metadata": {},
   "source": [
    "If we redefine $T$ as an order-3 tensor again and contract with the combiner $C$ then we get an order-2 tensor with the $i$ and $k$ legs combined: \n",
    "<img src=\"./images/combiner_itensor.png\" alt= “” width=\"700\" height=\"300\">"
   ]
  },
  {
   "cell_type": "code",
   "execution_count": 126,
   "id": "8712e4ef",
   "metadata": {},
   "outputs": [
    {
     "data": {
      "text/plain": [
       "ITensor ord=2 (dim=3|id=155|\"j\") (dim=12|id=517|\"c\")\n",
       "NDTensors.Dense{Float64, Vector{Float64}}"
      ]
     },
     "execution_count": 126,
     "metadata": {},
     "output_type": "execute_result"
    }
   ],
   "source": [
    "T = randomITensor(i,j,k)  # Overwrite T as a random order-3 tensor again \n",
    "F = T*C"
   ]
  },
  {
   "cell_type": "markdown",
   "id": "dc20400a",
   "metadata": {},
   "source": [
    "We are left we an order-2 tensor with indices $j$ and $c$ which we can examine as a 3 x 12 array:"
   ]
  },
  {
   "cell_type": "code",
   "execution_count": 106,
   "id": "cca6db5a",
   "metadata": {},
   "outputs": [
    {
     "data": {
      "text/plain": [
       "3×12 Matrix{ComplexF64}:\n",
       " -0.680676+0.680676im   -0.739827+0.739827im  …  -0.627573+0.627573im\n",
       " 0.0395894-0.0395894im   0.289936-0.289936im     -0.581361+0.581361im\n",
       " -0.210137+0.210137im     1.16727-1.16727im      -0.637969+0.637969im"
      ]
     },
     "execution_count": 106,
     "metadata": {},
     "output_type": "execute_result"
    }
   ],
   "source": [
    "Array(F,j,c)"
   ]
  },
  {
   "cell_type": "markdown",
   "id": "5bce6569",
   "metadata": {},
   "source": [
    "---\n",
    "\n",
    "## *Exercise*\n",
    "- Define the following a new random order-4 tensor $T$, a new index $m$, and a random order-2 tensor $V$. Then perform the following contraction:\n",
    "<img src=\"./images/tensor_contraction.png\" alt= “” width=\"500\" height=\"300\">\n",
    "---"
   ]
  },
  {
   "cell_type": "markdown",
   "id": "0ca71739",
   "metadata": {},
   "source": [
    "### Decomposing tensors"
   ]
  },
  {
   "cell_type": "markdown",
   "id": "f52376dc",
   "metadata": {},
   "source": [
    "We can employ standard linear algebra matrix decompositions to tensors by treating collections of indices as a \"row\" and \"column\" indices of a matrix. A very well used example inside tensor network algorithms is the SVD:\n",
    "\n",
    "<img src=\"./images/svd.png\" alt= “” width=\"700\" height=\"300\">"
   ]
  },
  {
   "cell_type": "code",
   "execution_count": 146,
   "id": "3ce2259b",
   "metadata": {},
   "outputs": [
    {
     "name": "stdout",
     "output_type": "stream",
     "text": [
      "norm(U * S * V - T) = 2.1662313824139103e-15\n"
     ]
    }
   ],
   "source": [
    "T = randomITensor(i,j,k)  # Define a new random order-3 tensor T\n",
    "U,S,V = svd(T,(i,k))      # Perform the SVD treating the indices $i$ and $k$ as the row index\n",
    "@show norm(U*S*V - T);    # We are guaranteed that U*S*V contraction will yield T to numerical precision"
   ]
  },
  {
   "cell_type": "markdown",
   "id": "d71b9bff",
   "metadata": {},
   "source": [
    "The QR decomposition works similarly:\n",
    "<img src=\"./images/qr.png\" alt= “” width=\"700\" height=\"300\">"
   ]
  },
  {
   "cell_type": "code",
   "execution_count": 147,
   "id": "5d9b9806",
   "metadata": {},
   "outputs": [
    {
     "name": "stdout",
     "output_type": "stream",
     "text": [
      "norm(Q * R - T) = 6.944811124780224e-16\n"
     ]
    }
   ],
   "source": [
    "T = randomITensor(i,j,k)        # Define a new random order-3 tensor T\n",
    "Q,R = qr(T,(i,k);positive=true) # Perform the QR treating the indices $i$ and $k$ as the row index\n",
    "@show norm(Q*R - T);            # We are guaranteed that U*R contraction will yield T to numerical precision"
   ]
  },
  {
   "cell_type": "markdown",
   "id": "80fb8bd5",
   "metadata": {},
   "source": [
    "---\n",
    "### Acknowledgement:\n",
    "The examples and tensor diagrams used in this notebook have been taken directly from the [ITensors.jl](https://itensor.github.io/ITensors.jl/stable/examples/ITensor.html) documentation!\n",
    "<img src=\"./images/itensor_logo.png\" alt= “” width=\"100\" height=\"300\">\n",
    "---"
   ]
  }
 ],
 "metadata": {
  "kernelspec": {
   "display_name": "Julia 1.7.2",
   "language": "julia",
   "name": "julia-1.7"
  },
  "language_info": {
   "file_extension": ".jl",
   "mimetype": "application/julia",
   "name": "julia",
   "version": "1.7.2"
  }
 },
 "nbformat": 4,
 "nbformat_minor": 5
}
